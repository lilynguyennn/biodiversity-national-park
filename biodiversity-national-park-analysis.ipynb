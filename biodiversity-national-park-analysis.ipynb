{
 "cells": [
  {
   "cell_type": "markdown",
   "metadata": {},
   "source": [
    "# Biodiversity in National Park Analysis\n",
    "\n",
    "## Project Overview\n",
    "For this project, you will interpret data from the National Parks Service about endangered species in different parks.\n",
    "\n",
    "You will perform some data analysis on the conservation statuses of these species and investigate if there are any patterns or themes to the types of species that become endangered. During this project, you will analyze, clean up, and plot data as well as pose questions and seek to answer them in a meaningful way.\n",
    "\n",
    "\n",
    "## Project Goals\n",
    "Our goal is to analyze the data provided and create visualizations that communicate findings on these questions:\n",
    "+ What is the distribution of conservation status for categories of species reported?\n",
    "+ What does biodiversity status look like at each reported national park? \n",
    "+ Which national park has the most at-risk biodiversity?\n",
    "+ Are there significant differences between species conservation status? Which species are more at-risk of endangerment?\n",
    "\n",
    "## Data Preparation\n",
    "\n",
    "### Loading the data\n",
    "\n",
    "Our datasets are provided in two csv files: \n",
    "+ `observations.csv`: contains scientific name, park name, and observation counts\n",
    "+ `species_info.csv`: contains specie category, scientific name, common name, and conservation status\n",
    "\n",
    "First, we will load these files into two pandas dataframes called `observations` and `species`, respectively."
   ]
  },
  {
   "cell_type": "code",
   "execution_count": 170,
   "metadata": {},
   "outputs": [
    {
     "data": {
      "text/html": [
       "<div>\n",
       "<style scoped>\n",
       "    .dataframe tbody tr th:only-of-type {\n",
       "        vertical-align: middle;\n",
       "    }\n",
       "\n",
       "    .dataframe tbody tr th {\n",
       "        vertical-align: top;\n",
       "    }\n",
       "\n",
       "    .dataframe thead th {\n",
       "        text-align: right;\n",
       "    }\n",
       "</style>\n",
       "<table border=\"1\" class=\"dataframe\">\n",
       "  <thead>\n",
       "    <tr style=\"text-align: right;\">\n",
       "      <th></th>\n",
       "      <th>scientific_name</th>\n",
       "      <th>park_name</th>\n",
       "      <th>observations</th>\n",
       "    </tr>\n",
       "  </thead>\n",
       "  <tbody>\n",
       "    <tr>\n",
       "      <th>0</th>\n",
       "      <td>Vicia benghalensis</td>\n",
       "      <td>Great Smoky Mountains National Park</td>\n",
       "      <td>68</td>\n",
       "    </tr>\n",
       "    <tr>\n",
       "      <th>1</th>\n",
       "      <td>Neovison vison</td>\n",
       "      <td>Great Smoky Mountains National Park</td>\n",
       "      <td>77</td>\n",
       "    </tr>\n",
       "    <tr>\n",
       "      <th>2</th>\n",
       "      <td>Prunus subcordata</td>\n",
       "      <td>Yosemite National Park</td>\n",
       "      <td>138</td>\n",
       "    </tr>\n",
       "    <tr>\n",
       "      <th>3</th>\n",
       "      <td>Abutilon theophrasti</td>\n",
       "      <td>Bryce National Park</td>\n",
       "      <td>84</td>\n",
       "    </tr>\n",
       "    <tr>\n",
       "      <th>4</th>\n",
       "      <td>Githopsis specularioides</td>\n",
       "      <td>Great Smoky Mountains National Park</td>\n",
       "      <td>85</td>\n",
       "    </tr>\n",
       "  </tbody>\n",
       "</table>\n",
       "</div>"
      ],
      "text/plain": [
       "            scientific_name                            park_name  observations\n",
       "0        Vicia benghalensis  Great Smoky Mountains National Park            68\n",
       "1            Neovison vison  Great Smoky Mountains National Park            77\n",
       "2         Prunus subcordata               Yosemite National Park           138\n",
       "3      Abutilon theophrasti                  Bryce National Park            84\n",
       "4  Githopsis specularioides  Great Smoky Mountains National Park            85"
      ]
     },
     "execution_count": 170,
     "metadata": {},
     "output_type": "execute_result"
    }
   ],
   "source": [
    "#import Python modules\n",
    "import pandas as pd\n",
    "import numpy as np\n",
    "from matplotlib import pyplot as plt\n",
    "import seaborn as sns\n",
    "\n",
    "#Load observations data\n",
    "observations = pd.read_csv('observations.csv')\n",
    "observations.head()"
   ]
  },
  {
   "cell_type": "code",
   "execution_count": 171,
   "metadata": {},
   "outputs": [
    {
     "data": {
      "text/html": [
       "<div>\n",
       "<style scoped>\n",
       "    .dataframe tbody tr th:only-of-type {\n",
       "        vertical-align: middle;\n",
       "    }\n",
       "\n",
       "    .dataframe tbody tr th {\n",
       "        vertical-align: top;\n",
       "    }\n",
       "\n",
       "    .dataframe thead th {\n",
       "        text-align: right;\n",
       "    }\n",
       "</style>\n",
       "<table border=\"1\" class=\"dataframe\">\n",
       "  <thead>\n",
       "    <tr style=\"text-align: right;\">\n",
       "      <th></th>\n",
       "      <th>category</th>\n",
       "      <th>scientific_name</th>\n",
       "      <th>common_names</th>\n",
       "      <th>conservation_status</th>\n",
       "    </tr>\n",
       "  </thead>\n",
       "  <tbody>\n",
       "    <tr>\n",
       "      <th>0</th>\n",
       "      <td>Mammal</td>\n",
       "      <td>Clethrionomys gapperi gapperi</td>\n",
       "      <td>Gapper's Red-Backed Vole</td>\n",
       "      <td>NaN</td>\n",
       "    </tr>\n",
       "    <tr>\n",
       "      <th>1</th>\n",
       "      <td>Mammal</td>\n",
       "      <td>Bos bison</td>\n",
       "      <td>American Bison, Bison</td>\n",
       "      <td>NaN</td>\n",
       "    </tr>\n",
       "    <tr>\n",
       "      <th>2</th>\n",
       "      <td>Mammal</td>\n",
       "      <td>Bos taurus</td>\n",
       "      <td>Aurochs, Aurochs, Domestic Cattle (Feral), Dom...</td>\n",
       "      <td>NaN</td>\n",
       "    </tr>\n",
       "    <tr>\n",
       "      <th>3</th>\n",
       "      <td>Mammal</td>\n",
       "      <td>Ovis aries</td>\n",
       "      <td>Domestic Sheep, Mouflon, Red Sheep, Sheep (Feral)</td>\n",
       "      <td>NaN</td>\n",
       "    </tr>\n",
       "    <tr>\n",
       "      <th>4</th>\n",
       "      <td>Mammal</td>\n",
       "      <td>Cervus elaphus</td>\n",
       "      <td>Wapiti Or Elk</td>\n",
       "      <td>NaN</td>\n",
       "    </tr>\n",
       "  </tbody>\n",
       "</table>\n",
       "</div>"
      ],
      "text/plain": [
       "  category                scientific_name  \\\n",
       "0   Mammal  Clethrionomys gapperi gapperi   \n",
       "1   Mammal                      Bos bison   \n",
       "2   Mammal                     Bos taurus   \n",
       "3   Mammal                     Ovis aries   \n",
       "4   Mammal                 Cervus elaphus   \n",
       "\n",
       "                                        common_names conservation_status  \n",
       "0                           Gapper's Red-Backed Vole                 NaN  \n",
       "1                              American Bison, Bison                 NaN  \n",
       "2  Aurochs, Aurochs, Domestic Cattle (Feral), Dom...                 NaN  \n",
       "3  Domestic Sheep, Mouflon, Red Sheep, Sheep (Feral)                 NaN  \n",
       "4                                      Wapiti Or Elk                 NaN  "
      ]
     },
     "execution_count": 171,
     "metadata": {},
     "output_type": "execute_result"
    }
   ],
   "source": [
    "#Load species data\n",
    "species = pd.read_csv('species_info.csv')\n",
    "species.head()"
   ]
  },
  {
   "cell_type": "markdown",
   "metadata": {},
   "source": [
    "Next, let's investigate the data characteristics of each of our dataframes. We can use .info() method to do this.\n",
    "+ observations: 23296 rows, 3 columns, no null values in any column\n",
    "+ species: 5824 rows,4 columns, null values in conservation_status column"
   ]
  },
  {
   "cell_type": "code",
   "execution_count": 172,
   "metadata": {},
   "outputs": [
    {
     "name": "stdout",
     "output_type": "stream",
     "text": [
      "<class 'pandas.core.frame.DataFrame'>\n",
      "RangeIndex: 23296 entries, 0 to 23295\n",
      "Data columns (total 3 columns):\n",
      " #   Column           Non-Null Count  Dtype \n",
      "---  ------           --------------  ----- \n",
      " 0   scientific_name  23296 non-null  object\n",
      " 1   park_name        23296 non-null  object\n",
      " 2   observations     23296 non-null  int64 \n",
      "dtypes: int64(1), object(2)\n",
      "memory usage: 546.1+ KB\n",
      "<class 'pandas.core.frame.DataFrame'>\n",
      "RangeIndex: 5824 entries, 0 to 5823\n",
      "Data columns (total 4 columns):\n",
      " #   Column               Non-Null Count  Dtype \n",
      "---  ------               --------------  ----- \n",
      " 0   category             5824 non-null   object\n",
      " 1   scientific_name      5824 non-null   object\n",
      " 2   common_names         5824 non-null   object\n",
      " 3   conservation_status  191 non-null    object\n",
      "dtypes: object(4)\n",
      "memory usage: 182.1+ KB\n"
     ]
    }
   ],
   "source": [
    "observations.info()\n",
    "species.info()"
   ]
  },
  {
   "cell_type": "markdown",
   "metadata": {},
   "source": [
    "### Explore Data\n",
    "\n",
    "#### `observations data`\n",
    "Let's explore our observations data. We want to know how many national parks were included in the study, and we also want to know which species had the highest and lowest observation count.\n",
    "\n",
    "\n",
    "+ **There are 4 national parks reported: Great Smoky Mountains, Yosemite, Bryce, and Yellowstone.**\n",
    "+ **Highest observation count: Lycopodium tristachyum, Yellowstone National Park, 321**\n",
    "+ **Lowest observation count: Corydalis aurea, Bryce National Park, 9**\n"
   ]
  },
  {
   "cell_type": "code",
   "execution_count": 173,
   "metadata": {},
   "outputs": [
    {
     "name": "stdout",
     "output_type": "stream",
     "text": [
      "['Great Smoky Mountains National Park' 'Yosemite National Park'\n",
      " 'Bryce National Park' 'Yellowstone National Park'] 4\n"
     ]
    }
   ],
   "source": [
    "#Find unique values for national park\n",
    "national_parks = observations.park_name.unique()\n",
    "num_national_parks = observations.park_name.nunique()\n",
    "\n",
    "print(national_parks, num_national_parks)"
   ]
  },
  {
   "cell_type": "code",
   "execution_count": 174,
   "metadata": {},
   "outputs": [
    {
     "data": {
      "text/html": [
       "<div>\n",
       "<style scoped>\n",
       "    .dataframe tbody tr th:only-of-type {\n",
       "        vertical-align: middle;\n",
       "    }\n",
       "\n",
       "    .dataframe tbody tr th {\n",
       "        vertical-align: top;\n",
       "    }\n",
       "\n",
       "    .dataframe thead th {\n",
       "        text-align: right;\n",
       "    }\n",
       "</style>\n",
       "<table border=\"1\" class=\"dataframe\">\n",
       "  <thead>\n",
       "    <tr style=\"text-align: right;\">\n",
       "      <th></th>\n",
       "      <th>scientific_name</th>\n",
       "      <th>park_name</th>\n",
       "      <th>observations</th>\n",
       "    </tr>\n",
       "  </thead>\n",
       "  <tbody>\n",
       "    <tr>\n",
       "      <th>11281</th>\n",
       "      <td>Lycopodium tristachyum</td>\n",
       "      <td>Yellowstone National Park</td>\n",
       "      <td>321</td>\n",
       "    </tr>\n",
       "  </tbody>\n",
       "</table>\n",
       "</div>"
      ],
      "text/plain": [
       "              scientific_name                  park_name  observations\n",
       "11281  Lycopodium tristachyum  Yellowstone National Park           321"
      ]
     },
     "execution_count": 174,
     "metadata": {},
     "output_type": "execute_result"
    }
   ],
   "source": [
    "# Species with the highest observation count\n",
    "observations[observations.observations == observations.observations.max()]"
   ]
  },
  {
   "cell_type": "code",
   "execution_count": 175,
   "metadata": {},
   "outputs": [
    {
     "data": {
      "text/html": [
       "<div>\n",
       "<style scoped>\n",
       "    .dataframe tbody tr th:only-of-type {\n",
       "        vertical-align: middle;\n",
       "    }\n",
       "\n",
       "    .dataframe tbody tr th {\n",
       "        vertical-align: top;\n",
       "    }\n",
       "\n",
       "    .dataframe thead th {\n",
       "        text-align: right;\n",
       "    }\n",
       "</style>\n",
       "<table border=\"1\" class=\"dataframe\">\n",
       "  <thead>\n",
       "    <tr style=\"text-align: right;\">\n",
       "      <th></th>\n",
       "      <th>scientific_name</th>\n",
       "      <th>park_name</th>\n",
       "      <th>observations</th>\n",
       "    </tr>\n",
       "  </thead>\n",
       "  <tbody>\n",
       "    <tr>\n",
       "      <th>9418</th>\n",
       "      <td>Corydalis aurea</td>\n",
       "      <td>Bryce National Park</td>\n",
       "      <td>9</td>\n",
       "    </tr>\n",
       "  </tbody>\n",
       "</table>\n",
       "</div>"
      ],
      "text/plain": [
       "      scientific_name            park_name  observations\n",
       "9418  Corydalis aurea  Bryce National Park             9"
      ]
     },
     "execution_count": 175,
     "metadata": {},
     "output_type": "execute_result"
    }
   ],
   "source": [
    "# Species with the lowest observation count\n",
    "observations[observations.observations == observations.observations.min()]"
   ]
  },
  {
   "cell_type": "markdown",
   "metadata": {},
   "source": [
    "#### `species data`\n",
    "Next, let's explore our species data. We want to find out the following information: \n",
    "\n",
    "+ **How many unique species are there?**\n",
    "+ **How many unique categories are there? How many species under each category?**\n",
    "+ **What are the conservation statuses reported? How many species are under each status?**\n"
   ]
  },
  {
   "cell_type": "code",
   "execution_count": 176,
   "metadata": {},
   "outputs": [
    {
     "name": "stdout",
     "output_type": "stream",
     "text": [
      "5541\n"
     ]
    }
   ],
   "source": [
    "# number of unique species\n",
    "print(species.scientific_name.nunique())"
   ]
  },
  {
   "cell_type": "code",
   "execution_count": 177,
   "metadata": {},
   "outputs": [
    {
     "name": "stdout",
     "output_type": "stream",
     "text": [
      "7\n",
      "['Mammal' 'Bird' 'Reptile' 'Amphibian' 'Fish' 'Vascular Plant'\n",
      " 'Nonvascular Plant']\n"
     ]
    },
    {
     "data": {
      "text/plain": [
       "category\n",
       "Amphibian              80\n",
       "Bird                  521\n",
       "Fish                  127\n",
       "Mammal                214\n",
       "Nonvascular Plant     333\n",
       "Reptile                79\n",
       "Vascular Plant       4470\n",
       "dtype: int64"
      ]
     },
     "execution_count": 177,
     "metadata": {},
     "output_type": "execute_result"
    }
   ],
   "source": [
    "# num of unique categories\n",
    "print(species.category.nunique())\n",
    "\n",
    "#unique categories\n",
    "print(species.category.unique())\n",
    "\n",
    "# num species under each category\n",
    "species.groupby('category').size()"
   ]
  },
  {
   "cell_type": "code",
   "execution_count": 178,
   "metadata": {},
   "outputs": [
    {
     "name": "stdout",
     "output_type": "stream",
     "text": [
      "[nan 'Species of Concern' 'Endangered' 'Threatened' 'In Recovery']\n",
      "na values:5633\n"
     ]
    },
    {
     "data": {
      "text/plain": [
       "conservation_status\n",
       "Endangered             16\n",
       "In Recovery             4\n",
       "Species of Concern    161\n",
       "Threatened             10\n",
       "dtype: int64"
      ]
     },
     "execution_count": 178,
     "metadata": {},
     "output_type": "execute_result"
    }
   ],
   "source": [
    "#conservation status\n",
    "print(species.conservation_status.unique())\n",
    "print(f\"na values:{species.conservation_status.isna().sum()}\")\n",
    "species.groupby('conservation_status').size()"
   ]
  },
  {
   "cell_type": "markdown",
   "metadata": {},
   "source": [
    "### Cleaning the data\n",
    "We noticed that the **conservation_status** column has 5633 \"missing\" value (i.e. Nan). These values are not actually missing, rather they denote that the species in question is not under a protected status. We'll replace these Nan values with \"Not Concerned\"."
   ]
  },
  {
   "cell_type": "code",
   "execution_count": 179,
   "metadata": {},
   "outputs": [
    {
     "data": {
      "text/plain": [
       "conservation_status\n",
       "Endangered              16\n",
       "In Recovery              4\n",
       "Not Concerned         5633\n",
       "Species of Concern     161\n",
       "Threatened              10\n",
       "dtype: int64"
      ]
     },
     "execution_count": 179,
     "metadata": {},
     "output_type": "execute_result"
    }
   ],
   "source": [
    "#Replace nan values in conservation_status in species table\n",
    "species.conservation_status.fillna('Not Concerned', inplace=True)\n",
    "species.groupby('conservation_status').size()"
   ]
  },
  {
   "cell_type": "markdown",
   "metadata": {},
   "source": [
    "## Data Analysis"
   ]
  },
  {
   "cell_type": "markdown",
   "metadata": {},
   "source": [
    "### What is the distribution of conservation status for categories of species reported?\n",
    "We're interested in seeing how many of each species categories are under each conservation status. This may help us understand if certain category is more endangered than others."
   ]
  },
  {
   "cell_type": "code",
   "execution_count": 180,
   "metadata": {},
   "outputs": [
    {
     "data": {
      "text/html": [
       "<div>\n",
       "<style scoped>\n",
       "    .dataframe tbody tr th:only-of-type {\n",
       "        vertical-align: middle;\n",
       "    }\n",
       "\n",
       "    .dataframe tbody tr th {\n",
       "        vertical-align: top;\n",
       "    }\n",
       "\n",
       "    .dataframe thead tr th {\n",
       "        text-align: left;\n",
       "    }\n",
       "\n",
       "    .dataframe thead tr:last-of-type th {\n",
       "        text-align: right;\n",
       "    }\n",
       "</style>\n",
       "<table border=\"1\" class=\"dataframe\">\n",
       "  <thead>\n",
       "    <tr>\n",
       "      <th></th>\n",
       "      <th colspan=\"7\" halign=\"left\">scientific_name</th>\n",
       "    </tr>\n",
       "    <tr>\n",
       "      <th>category</th>\n",
       "      <th>Amphibian</th>\n",
       "      <th>Bird</th>\n",
       "      <th>Fish</th>\n",
       "      <th>Mammal</th>\n",
       "      <th>Nonvascular Plant</th>\n",
       "      <th>Reptile</th>\n",
       "      <th>Vascular Plant</th>\n",
       "    </tr>\n",
       "    <tr>\n",
       "      <th>conservation_status</th>\n",
       "      <th></th>\n",
       "      <th></th>\n",
       "      <th></th>\n",
       "      <th></th>\n",
       "      <th></th>\n",
       "      <th></th>\n",
       "      <th></th>\n",
       "    </tr>\n",
       "  </thead>\n",
       "  <tbody>\n",
       "    <tr>\n",
       "      <th>Endangered</th>\n",
       "      <td>1</td>\n",
       "      <td>4</td>\n",
       "      <td>3</td>\n",
       "      <td>7</td>\n",
       "      <td>0</td>\n",
       "      <td>0</td>\n",
       "      <td>1</td>\n",
       "    </tr>\n",
       "    <tr>\n",
       "      <th>In Recovery</th>\n",
       "      <td>0</td>\n",
       "      <td>3</td>\n",
       "      <td>0</td>\n",
       "      <td>1</td>\n",
       "      <td>0</td>\n",
       "      <td>0</td>\n",
       "      <td>0</td>\n",
       "    </tr>\n",
       "    <tr>\n",
       "      <th>Not Concerned</th>\n",
       "      <td>73</td>\n",
       "      <td>442</td>\n",
       "      <td>116</td>\n",
       "      <td>176</td>\n",
       "      <td>328</td>\n",
       "      <td>74</td>\n",
       "      <td>4424</td>\n",
       "    </tr>\n",
       "    <tr>\n",
       "      <th>Species of Concern</th>\n",
       "      <td>4</td>\n",
       "      <td>72</td>\n",
       "      <td>4</td>\n",
       "      <td>28</td>\n",
       "      <td>5</td>\n",
       "      <td>5</td>\n",
       "      <td>43</td>\n",
       "    </tr>\n",
       "    <tr>\n",
       "      <th>Threatened</th>\n",
       "      <td>2</td>\n",
       "      <td>0</td>\n",
       "      <td>4</td>\n",
       "      <td>2</td>\n",
       "      <td>0</td>\n",
       "      <td>0</td>\n",
       "      <td>2</td>\n",
       "    </tr>\n",
       "  </tbody>\n",
       "</table>\n",
       "</div>"
      ],
      "text/plain": [
       "                    scientific_name                                     \\\n",
       "category                  Amphibian Bird Fish Mammal Nonvascular Plant   \n",
       "conservation_status                                                      \n",
       "Endangered                        1    4    3      7                 0   \n",
       "In Recovery                       0    3    0      1                 0   \n",
       "Not Concerned                    73  442  116    176               328   \n",
       "Species of Concern                4   72    4     28                 5   \n",
       "Threatened                        2    0    4      2                 0   \n",
       "\n",
       "                                            \n",
       "category            Reptile Vascular Plant  \n",
       "conservation_status                         \n",
       "Endangered                0              1  \n",
       "In Recovery               0              0  \n",
       "Not Concerned            74           4424  \n",
       "Species of Concern        5             43  \n",
       "Threatened                0              2  "
      ]
     },
     "execution_count": 180,
     "metadata": {},
     "output_type": "execute_result"
    }
   ],
   "source": [
    "#Pivot table of category and conservation status (count)\n",
    "\n",
    "categoryStatus = pd.pivot_table(species,\n",
    "                                values=['scientific_name'],\n",
    "                                index=['conservation_status'],\n",
    "                                columns=['category'],\n",
    "                                aggfunc=len,\n",
    "                                dropna=True, fill_value=0)\n",
    "\n",
    "categoryStatus"
   ]
  },
  {
   "cell_type": "markdown",
   "metadata": {},
   "source": [
    "Of the 16 endangered species, 7 are Mammal. There are also 28 mammal species that are of concern. \n",
    "Vascular Plant and Amphibian have the least amount of species under `Endangered` status.\n",
    "\n",
    "Next, we want to know what percentage of each species is under `Endangered`, `Species of Concern`, and `Threatened` statuses. To do this, we will transform the pivot table above to show percentage of column total."
   ]
  },
  {
   "cell_type": "code",
   "execution_count": 181,
   "metadata": {},
   "outputs": [
    {
     "data": {
      "text/html": [
       "<div>\n",
       "<style scoped>\n",
       "    .dataframe tbody tr th:only-of-type {\n",
       "        vertical-align: middle;\n",
       "    }\n",
       "\n",
       "    .dataframe tbody tr th {\n",
       "        vertical-align: top;\n",
       "    }\n",
       "\n",
       "    .dataframe thead tr th {\n",
       "        text-align: left;\n",
       "    }\n",
       "\n",
       "    .dataframe thead tr:last-of-type th {\n",
       "        text-align: right;\n",
       "    }\n",
       "</style>\n",
       "<table border=\"1\" class=\"dataframe\">\n",
       "  <thead>\n",
       "    <tr>\n",
       "      <th></th>\n",
       "      <th colspan=\"7\" halign=\"left\">scientific_name</th>\n",
       "    </tr>\n",
       "    <tr>\n",
       "      <th>category</th>\n",
       "      <th>Amphibian</th>\n",
       "      <th>Bird</th>\n",
       "      <th>Fish</th>\n",
       "      <th>Mammal</th>\n",
       "      <th>Nonvascular Plant</th>\n",
       "      <th>Reptile</th>\n",
       "      <th>Vascular Plant</th>\n",
       "    </tr>\n",
       "    <tr>\n",
       "      <th>conservation_status</th>\n",
       "      <th></th>\n",
       "      <th></th>\n",
       "      <th></th>\n",
       "      <th></th>\n",
       "      <th></th>\n",
       "      <th></th>\n",
       "      <th></th>\n",
       "    </tr>\n",
       "  </thead>\n",
       "  <tbody>\n",
       "    <tr>\n",
       "      <th>Endangered</th>\n",
       "      <td>1.25</td>\n",
       "      <td>0.767754</td>\n",
       "      <td>2.362205</td>\n",
       "      <td>3.271028</td>\n",
       "      <td>0.000000</td>\n",
       "      <td>0.000000</td>\n",
       "      <td>0.022371</td>\n",
       "    </tr>\n",
       "    <tr>\n",
       "      <th>In Recovery</th>\n",
       "      <td>0.00</td>\n",
       "      <td>0.575816</td>\n",
       "      <td>0.000000</td>\n",
       "      <td>0.467290</td>\n",
       "      <td>0.000000</td>\n",
       "      <td>0.000000</td>\n",
       "      <td>0.000000</td>\n",
       "    </tr>\n",
       "    <tr>\n",
       "      <th>Not Concerned</th>\n",
       "      <td>91.25</td>\n",
       "      <td>84.836852</td>\n",
       "      <td>91.338583</td>\n",
       "      <td>82.242991</td>\n",
       "      <td>98.498498</td>\n",
       "      <td>93.670886</td>\n",
       "      <td>98.970917</td>\n",
       "    </tr>\n",
       "    <tr>\n",
       "      <th>Species of Concern</th>\n",
       "      <td>5.00</td>\n",
       "      <td>13.819578</td>\n",
       "      <td>3.149606</td>\n",
       "      <td>13.084112</td>\n",
       "      <td>1.501502</td>\n",
       "      <td>6.329114</td>\n",
       "      <td>0.961969</td>\n",
       "    </tr>\n",
       "    <tr>\n",
       "      <th>Threatened</th>\n",
       "      <td>2.50</td>\n",
       "      <td>0.000000</td>\n",
       "      <td>3.149606</td>\n",
       "      <td>0.934579</td>\n",
       "      <td>0.000000</td>\n",
       "      <td>0.000000</td>\n",
       "      <td>0.044743</td>\n",
       "    </tr>\n",
       "  </tbody>\n",
       "</table>\n",
       "</div>"
      ],
      "text/plain": [
       "                    scientific_name                                   \\\n",
       "category                  Amphibian       Bird       Fish     Mammal   \n",
       "conservation_status                                                    \n",
       "Endangered                     1.25   0.767754   2.362205   3.271028   \n",
       "In Recovery                    0.00   0.575816   0.000000   0.467290   \n",
       "Not Concerned                 91.25  84.836852  91.338583  82.242991   \n",
       "Species of Concern             5.00  13.819578   3.149606  13.084112   \n",
       "Threatened                     2.50   0.000000   3.149606   0.934579   \n",
       "\n",
       "                                                                 \n",
       "category            Nonvascular Plant    Reptile Vascular Plant  \n",
       "conservation_status                                              \n",
       "Endangered                   0.000000   0.000000       0.022371  \n",
       "In Recovery                  0.000000   0.000000       0.000000  \n",
       "Not Concerned               98.498498  93.670886      98.970917  \n",
       "Species of Concern           1.501502   6.329114       0.961969  \n",
       "Threatened                   0.000000   0.000000       0.044743  "
      ]
     },
     "execution_count": 181,
     "metadata": {},
     "output_type": "execute_result"
    }
   ],
   "source": [
    "#Pivot table of category and conservation status (pct)\n",
    "\n",
    "pctCategoryStatus = categoryStatus.apply(lambda x: x*100/sum(x))\n",
    "\n",
    "pctCategoryStatus"
   ]
  },
  {
   "cell_type": "markdown",
   "metadata": {},
   "source": [
    "+ `Mammal` has the highest percentage of species under `Endangered` status at 3.27%, followed by `Bird` at 2.36%.\n",
    "+ The same trend holds for `Species of concern`, with `Bird` having the highest share of spiecies under this status at 13.81%. `Mammal` is a close second at 13.08%.\n",
    "+ For `Threated` status, `Fish` has the higest share of species at 3.14%.\n",
    "+ For all categories reported, the majority of species are not under a protected status.\n",
    "\n",
    "Next, let's visualize this data so it is easier to understand. We will use a stacked bar chart."
   ]
  },
  {
   "cell_type": "code",
   "execution_count": 182,
   "metadata": {},
   "outputs": [
    {
     "data": {
      "image/png": "[encoded data removed]",
      "text/plain": [
       "<Figure size 576x432 with 1 Axes>"
      ]
     },
     "metadata": {
      "needs_background": "light"
     },
     "output_type": "display_data"
    }
   ],
   "source": [
    "plotcategoryStatus = pd.pivot_table(species[species.conservation_status != 'Not Concerned'],\n",
    "                                values=['scientific_name'],\n",
    "                                index=['conservation_status'],\n",
    "                                columns=['category'],\n",
    "                                aggfunc=len,\n",
    "                                dropna=True, fill_value=0)\n",
    "\n",
    "ax = plotcategoryStatus.plot(kind = 'bar', figsize=(8,6), stacked=True)\n",
    "ax.set_xlabel('Conservation Status')\n",
    "ax.set_ylabel('Number of Species')\n",
    "for c in ax.containers:\n",
    "    # Optional: if the segment is small or 0, customize the labels\n",
    "    labels = [v.get_height() if v.get_height() > 0 else '' for v in c]\n",
    "    \n",
    "    # remove the labels parameter if it's not needed for customized labels\n",
    "    ax.bar_label(c, labels=labels, label_type='center')"
   ]
  },
  {
   "cell_type": "markdown",
   "metadata": {},
   "source": [
    "### What does biodiversity status look like at each reported national park?\n",
    "Next we're interested in exploring the level of biodiversity at each of the 4 national park reported. We can do this by exploring and visualizing the observation count of species in each national park."
   ]
  },
  {
   "cell_type": "code",
   "execution_count": 183,
   "metadata": {},
   "outputs": [
    {
     "data": {
      "text/html": [
       "<div>\n",
       "<style scoped>\n",
       "    .dataframe tbody tr th:only-of-type {\n",
       "        vertical-align: middle;\n",
       "    }\n",
       "\n",
       "    .dataframe tbody tr th {\n",
       "        vertical-align: top;\n",
       "    }\n",
       "\n",
       "    .dataframe thead th {\n",
       "        text-align: right;\n",
       "    }\n",
       "</style>\n",
       "<table border=\"1\" class=\"dataframe\">\n",
       "  <thead>\n",
       "    <tr style=\"text-align: right;\">\n",
       "      <th></th>\n",
       "      <th>observations</th>\n",
       "    </tr>\n",
       "    <tr>\n",
       "      <th>park_name</th>\n",
       "      <th></th>\n",
       "    </tr>\n",
       "  </thead>\n",
       "  <tbody>\n",
       "    <tr>\n",
       "      <th>Bryce National Park</th>\n",
       "      <td>576025</td>\n",
       "    </tr>\n",
       "    <tr>\n",
       "      <th>Great Smoky Mountains National Park</th>\n",
       "      <td>431820</td>\n",
       "    </tr>\n",
       "    <tr>\n",
       "      <th>Yellowstone National Park</th>\n",
       "      <td>1443562</td>\n",
       "    </tr>\n",
       "    <tr>\n",
       "      <th>Yosemite National Park</th>\n",
       "      <td>863332</td>\n",
       "    </tr>\n",
       "  </tbody>\n",
       "</table>\n",
       "</div>"
      ],
      "text/plain": [
       "                                     observations\n",
       "park_name                                        \n",
       "Bryce National Park                        576025\n",
       "Great Smoky Mountains National Park        431820\n",
       "Yellowstone National Park                 1443562\n",
       "Yosemite National Park                     863332"
      ]
     },
     "execution_count": 183,
     "metadata": {},
     "output_type": "execute_result"
    }
   ],
   "source": [
    "#Total observation count by park\n",
    "observationPark = observations.groupby('park_name').sum('observation')\n",
    "\n",
    "observationPark"
   ]
  },
  {
   "cell_type": "code",
   "execution_count": 184,
   "metadata": {},
   "outputs": [
    {
     "data": {
      "image/png": "[encoded data removed]",
      "text/plain": [
       "<Figure size 576x432 with 1 Axes>"
      ]
     },
     "metadata": {
      "needs_background": "light"
     },
     "output_type": "display_data"
    }
   ],
   "source": [
    "#Bar chart total observation counts by park\n",
    "ax = observationPark.plot(kind = 'bar', figsize=(8,6))\n",
    "ax.set_xlabel('Park Name')\n",
    "ax.set_ylabel('Number of observations')\n",
    "\n",
    "for c in ax.containers:\n",
    "    # Optional: if the segment is small or 0, customize the labels\n",
    "    labels = [v.get_height() if v.get_height() > 0 else '' for v in c]\n",
    "    \n",
    "    # remove the labels parameter if it's not needed for customized labels\n",
    "    ax.bar_label(c, labels=labels, label_type='center')"
   ]
  },
  {
   "cell_type": "code",
   "execution_count": 185,
   "metadata": {},
   "outputs": [
    {
     "data": {
      "image/png": "[encoded data removed]",
      "text/plain": [
       "<Figure size 432x288 with 1 Axes>"
      ]
     },
     "metadata": {
      "needs_background": "light"
     },
     "output_type": "display_data"
    }
   ],
   "source": [
    "#Box plot observation counts by park\n",
    "ax = sns.boxplot(x='park_name', y='observations', data=observations, palette='Accent')\n",
    "ax.set_xticklabels(ax.get_xticklabels(),rotation=85)\n",
    "\n",
    "\n",
    "plt.show()"
   ]
  },
  {
   "cell_type": "markdown",
   "metadata": {},
   "source": [
    "Yellowstone National Park has the highest number of observations and also has the largest range among all 4 parks reported."
   ]
  },
  {
   "cell_type": "markdown",
   "metadata": {},
   "source": [
    "### Which national park has the most at-risk biodiversity?\n",
    "\n",
    "We want to find out from the data provided which national park has the most at-risk biodiversity. To do this, we can join the two tables `species` and `observations` using the common column `scientific_name`. Then, we will be able to determine which national park has the highest percentage of total observations under protection statuses such as `Endangered`, `Threatened`, and `Species of Concern`."
   ]
  },
  {
   "cell_type": "code",
   "execution_count": 186,
   "metadata": {},
   "outputs": [
    {
     "data": {
      "text/html": [
       "<div>\n",
       "<style scoped>\n",
       "    .dataframe tbody tr th:only-of-type {\n",
       "        vertical-align: middle;\n",
       "    }\n",
       "\n",
       "    .dataframe tbody tr th {\n",
       "        vertical-align: top;\n",
       "    }\n",
       "\n",
       "    .dataframe thead th {\n",
       "        text-align: right;\n",
       "    }\n",
       "</style>\n",
       "<table border=\"1\" class=\"dataframe\">\n",
       "  <thead>\n",
       "    <tr style=\"text-align: right;\">\n",
       "      <th></th>\n",
       "      <th>category</th>\n",
       "      <th>scientific_name</th>\n",
       "      <th>common_names</th>\n",
       "      <th>conservation_status</th>\n",
       "      <th>park_name</th>\n",
       "      <th>observations</th>\n",
       "    </tr>\n",
       "  </thead>\n",
       "  <tbody>\n",
       "    <tr>\n",
       "      <th>0</th>\n",
       "      <td>Mammal</td>\n",
       "      <td>Clethrionomys gapperi gapperi</td>\n",
       "      <td>Gapper's Red-Backed Vole</td>\n",
       "      <td>Not Concerned</td>\n",
       "      <td>Bryce National Park</td>\n",
       "      <td>130</td>\n",
       "    </tr>\n",
       "    <tr>\n",
       "      <th>1</th>\n",
       "      <td>Mammal</td>\n",
       "      <td>Clethrionomys gapperi gapperi</td>\n",
       "      <td>Gapper's Red-Backed Vole</td>\n",
       "      <td>Not Concerned</td>\n",
       "      <td>Yellowstone National Park</td>\n",
       "      <td>270</td>\n",
       "    </tr>\n",
       "    <tr>\n",
       "      <th>2</th>\n",
       "      <td>Mammal</td>\n",
       "      <td>Clethrionomys gapperi gapperi</td>\n",
       "      <td>Gapper's Red-Backed Vole</td>\n",
       "      <td>Not Concerned</td>\n",
       "      <td>Great Smoky Mountains National Park</td>\n",
       "      <td>98</td>\n",
       "    </tr>\n",
       "    <tr>\n",
       "      <th>3</th>\n",
       "      <td>Mammal</td>\n",
       "      <td>Clethrionomys gapperi gapperi</td>\n",
       "      <td>Gapper's Red-Backed Vole</td>\n",
       "      <td>Not Concerned</td>\n",
       "      <td>Yosemite National Park</td>\n",
       "      <td>117</td>\n",
       "    </tr>\n",
       "    <tr>\n",
       "      <th>4</th>\n",
       "      <td>Mammal</td>\n",
       "      <td>Bos bison</td>\n",
       "      <td>American Bison, Bison</td>\n",
       "      <td>Not Concerned</td>\n",
       "      <td>Yosemite National Park</td>\n",
       "      <td>128</td>\n",
       "    </tr>\n",
       "    <tr>\n",
       "      <th>...</th>\n",
       "      <td>...</td>\n",
       "      <td>...</td>\n",
       "      <td>...</td>\n",
       "      <td>...</td>\n",
       "      <td>...</td>\n",
       "      <td>...</td>\n",
       "    </tr>\n",
       "    <tr>\n",
       "      <th>25627</th>\n",
       "      <td>Vascular Plant</td>\n",
       "      <td>Vitis californica</td>\n",
       "      <td>California Grape, California Wild Grape</td>\n",
       "      <td>Not Concerned</td>\n",
       "      <td>Yellowstone National Park</td>\n",
       "      <td>237</td>\n",
       "    </tr>\n",
       "    <tr>\n",
       "      <th>25628</th>\n",
       "      <td>Vascular Plant</td>\n",
       "      <td>Tribulus terrestris</td>\n",
       "      <td>Bullhead, Caltrop, Goathead, Mexican Sandbur, ...</td>\n",
       "      <td>Not Concerned</td>\n",
       "      <td>Great Smoky Mountains National Park</td>\n",
       "      <td>50</td>\n",
       "    </tr>\n",
       "    <tr>\n",
       "      <th>25629</th>\n",
       "      <td>Vascular Plant</td>\n",
       "      <td>Tribulus terrestris</td>\n",
       "      <td>Bullhead, Caltrop, Goathead, Mexican Sandbur, ...</td>\n",
       "      <td>Not Concerned</td>\n",
       "      <td>Yellowstone National Park</td>\n",
       "      <td>239</td>\n",
       "    </tr>\n",
       "    <tr>\n",
       "      <th>25630</th>\n",
       "      <td>Vascular Plant</td>\n",
       "      <td>Tribulus terrestris</td>\n",
       "      <td>Bullhead, Caltrop, Goathead, Mexican Sandbur, ...</td>\n",
       "      <td>Not Concerned</td>\n",
       "      <td>Bryce National Park</td>\n",
       "      <td>111</td>\n",
       "    </tr>\n",
       "    <tr>\n",
       "      <th>25631</th>\n",
       "      <td>Vascular Plant</td>\n",
       "      <td>Tribulus terrestris</td>\n",
       "      <td>Bullhead, Caltrop, Goathead, Mexican Sandbur, ...</td>\n",
       "      <td>Not Concerned</td>\n",
       "      <td>Yosemite National Park</td>\n",
       "      <td>156</td>\n",
       "    </tr>\n",
       "  </tbody>\n",
       "</table>\n",
       "<p>25632 rows × 6 columns</p>\n",
       "</div>"
      ],
      "text/plain": [
       "             category                scientific_name  \\\n",
       "0              Mammal  Clethrionomys gapperi gapperi   \n",
       "1              Mammal  Clethrionomys gapperi gapperi   \n",
       "2              Mammal  Clethrionomys gapperi gapperi   \n",
       "3              Mammal  Clethrionomys gapperi gapperi   \n",
       "4              Mammal                      Bos bison   \n",
       "...               ...                            ...   \n",
       "25627  Vascular Plant              Vitis californica   \n",
       "25628  Vascular Plant            Tribulus terrestris   \n",
       "25629  Vascular Plant            Tribulus terrestris   \n",
       "25630  Vascular Plant            Tribulus terrestris   \n",
       "25631  Vascular Plant            Tribulus terrestris   \n",
       "\n",
       "                                            common_names conservation_status  \\\n",
       "0                               Gapper's Red-Backed Vole       Not Concerned   \n",
       "1                               Gapper's Red-Backed Vole       Not Concerned   \n",
       "2                               Gapper's Red-Backed Vole       Not Concerned   \n",
       "3                               Gapper's Red-Backed Vole       Not Concerned   \n",
       "4                                  American Bison, Bison       Not Concerned   \n",
       "...                                                  ...                 ...   \n",
       "25627            California Grape, California Wild Grape       Not Concerned   \n",
       "25628  Bullhead, Caltrop, Goathead, Mexican Sandbur, ...       Not Concerned   \n",
       "25629  Bullhead, Caltrop, Goathead, Mexican Sandbur, ...       Not Concerned   \n",
       "25630  Bullhead, Caltrop, Goathead, Mexican Sandbur, ...       Not Concerned   \n",
       "25631  Bullhead, Caltrop, Goathead, Mexican Sandbur, ...       Not Concerned   \n",
       "\n",
       "                                 park_name  observations  \n",
       "0                      Bryce National Park           130  \n",
       "1                Yellowstone National Park           270  \n",
       "2      Great Smoky Mountains National Park            98  \n",
       "3                   Yosemite National Park           117  \n",
       "4                   Yosemite National Park           128  \n",
       "...                                    ...           ...  \n",
       "25627            Yellowstone National Park           237  \n",
       "25628  Great Smoky Mountains National Park            50  \n",
       "25629            Yellowstone National Park           239  \n",
       "25630                  Bryce National Park           111  \n",
       "25631               Yosemite National Park           156  \n",
       "\n",
       "[25632 rows x 6 columns]"
      ]
     },
     "execution_count": 186,
     "metadata": {},
     "output_type": "execute_result"
    }
   ],
   "source": [
    "#Merge two tables on scientific_name column\n",
    "merge_df = pd.merge(species, observations, on='scientific_name', how='left')\n",
    "merge_df"
   ]
  },
  {
   "cell_type": "code",
   "execution_count": 187,
   "metadata": {},
   "outputs": [
    {
     "data": {
      "text/html": [
       "<div>\n",
       "<style scoped>\n",
       "    .dataframe tbody tr th:only-of-type {\n",
       "        vertical-align: middle;\n",
       "    }\n",
       "\n",
       "    .dataframe tbody tr th {\n",
       "        vertical-align: top;\n",
       "    }\n",
       "\n",
       "    .dataframe thead tr th {\n",
       "        text-align: left;\n",
       "    }\n",
       "\n",
       "    .dataframe thead tr:last-of-type th {\n",
       "        text-align: right;\n",
       "    }\n",
       "</style>\n",
       "<table border=\"1\" class=\"dataframe\">\n",
       "  <thead>\n",
       "    <tr>\n",
       "      <th></th>\n",
       "      <th colspan=\"4\" halign=\"left\">observations</th>\n",
       "    </tr>\n",
       "    <tr>\n",
       "      <th>park_name</th>\n",
       "      <th>Bryce National Park</th>\n",
       "      <th>Great Smoky Mountains National Park</th>\n",
       "      <th>Yellowstone National Park</th>\n",
       "      <th>Yosemite National Park</th>\n",
       "    </tr>\n",
       "    <tr>\n",
       "      <th>conservation_status</th>\n",
       "      <th></th>\n",
       "      <th></th>\n",
       "      <th></th>\n",
       "      <th></th>\n",
       "    </tr>\n",
       "  </thead>\n",
       "  <tbody>\n",
       "    <tr>\n",
       "      <th>Endangered</th>\n",
       "      <td>0.097743</td>\n",
       "      <td>0.082761</td>\n",
       "      <td>0.098133</td>\n",
       "      <td>0.099320</td>\n",
       "    </tr>\n",
       "    <tr>\n",
       "      <th>In Recovery</th>\n",
       "      <td>0.061267</td>\n",
       "      <td>0.052226</td>\n",
       "      <td>0.055995</td>\n",
       "      <td>0.061299</td>\n",
       "    </tr>\n",
       "    <tr>\n",
       "      <th>Not Concerned</th>\n",
       "      <td>97.061540</td>\n",
       "      <td>97.301116</td>\n",
       "      <td>97.191871</td>\n",
       "      <td>97.165418</td>\n",
       "    </tr>\n",
       "    <tr>\n",
       "      <th>Species of Concern</th>\n",
       "      <td>2.686127</td>\n",
       "      <td>2.471239</td>\n",
       "      <td>2.562103</td>\n",
       "      <td>2.584544</td>\n",
       "    </tr>\n",
       "    <tr>\n",
       "      <th>Threatened</th>\n",
       "      <td>0.093322</td>\n",
       "      <td>0.092658</td>\n",
       "      <td>0.091897</td>\n",
       "      <td>0.089420</td>\n",
       "    </tr>\n",
       "  </tbody>\n",
       "</table>\n",
       "</div>"
      ],
      "text/plain": [
       "                           observations                                      \\\n",
       "park_name           Bryce National Park Great Smoky Mountains National Park   \n",
       "conservation_status                                                           \n",
       "Endangered                     0.097743                            0.082761   \n",
       "In Recovery                    0.061267                            0.052226   \n",
       "Not Concerned                 97.061540                           97.301116   \n",
       "Species of Concern             2.686127                            2.471239   \n",
       "Threatened                     0.093322                            0.092658   \n",
       "\n",
       "                                                                      \n",
       "park_name           Yellowstone National Park Yosemite National Park  \n",
       "conservation_status                                                   \n",
       "Endangered                           0.098133               0.099320  \n",
       "In Recovery                          0.055995               0.061299  \n",
       "Not Concerned                       97.191871              97.165418  \n",
       "Species of Concern                   2.562103               2.584544  \n",
       "Threatened                           0.091897               0.089420  "
      ]
     },
     "execution_count": 187,
     "metadata": {},
     "output_type": "execute_result"
    }
   ],
   "source": [
    "#Pivot table of national park and conservation statuses\n",
    "\n",
    "parkStatus = pd.pivot_table(merge_df,\n",
    "                            values=['observations'],\n",
    "                            index=['conservation_status'],\n",
    "                            columns=['park_name'],\n",
    "                            aggfunc=sum,\n",
    "                            dropna=True, fill_value=0)\n",
    "\n",
    "#Calculate pct of species under each status\n",
    "parkStatusPct = parkStatus.apply(lambda x: x*100/sum(x))\n",
    "\n",
    "parkStatusPct"
   ]
  },
  {
   "cell_type": "markdown",
   "metadata": {},
   "source": [
    "Upon examining the table above, we can see that there seems to be little variation between 4 national parks in regards to the percentage of total observations by conservation status. Overall, we see pretty similar distribution of observations across statuses across 4 parks. This indicates that all 4 parks may have similar level of at-risk biodiversity.\n",
    "\n",
    "+ `Yosemite National Park` has the highest percentage and `Great Smoky Moutains National Park` has the lowest percentage of observations under `Endangered` status.\n"
   ]
  },
  {
   "cell_type": "markdown",
   "metadata": {},
   "source": [
    "### Are some species categories more likely to be at-risk of endangerment? Are there significant differences between categories' conservation status?\n",
    "Lastly, we want to find out whether certain species categories are more likely to be at-risk of endangerment, and whether there are statistically significant differences between species categories in conservation statuses.\n",
    "\n",
    "We can do this by adding a new column `is_protected` which equals `True` for categories with a conservation status other than `Not Concerned`, and equals `False` for the rest. Then, we can group the data by `category` and their protected status to determine whether certain categories have a higher rate of protection status."
   ]
  },
  {
   "cell_type": "code",
   "execution_count": 188,
   "metadata": {},
   "outputs": [
    {
     "ename": "NameError",
     "evalue": "name 'pecies' is not defined",
     "output_type": "error",
     "traceback": [
      "\u001b[0;31m---------------------------------------------------------------------------\u001b[0m",
      "\u001b[0;31mNameError\u001b[0m                                 Traceback (most recent call last)",
      "\u001b[0;32m/var/folders/dl/54gh5hk51g94glj6wp3r_wf00000gn/T/ipykernel_67531/926534445.py\u001b[0m in \u001b[0;36m<module>\u001b[0;34m\u001b[0m\n\u001b[1;32m      1\u001b[0m \u001b[0;31m#Add new is_protected column\u001b[0m\u001b[0;34m\u001b[0m\u001b[0;34m\u001b[0m\u001b[0m\n\u001b[0;32m----> 2\u001b[0;31m \u001b[0mpecies\u001b[0m\u001b[0;34m[\u001b[0m\u001b[0;34m'is_protected'\u001b[0m\u001b[0;34m]\u001b[0m \u001b[0;34m=\u001b[0m \u001b[0mspecies\u001b[0m\u001b[0;34m.\u001b[0m\u001b[0mconservation_status\u001b[0m \u001b[0;34m!=\u001b[0m \u001b[0;34m'Not Concerned'\u001b[0m\u001b[0;34m\u001b[0m\u001b[0;34m\u001b[0m\u001b[0m\n\u001b[0m\u001b[1;32m      3\u001b[0m \u001b[0;34m\u001b[0m\u001b[0m\n\u001b[1;32m      4\u001b[0m \u001b[0mspecies\u001b[0m\u001b[0;34m\u001b[0m\u001b[0;34m\u001b[0m\u001b[0m\n",
      "\u001b[0;31mNameError\u001b[0m: name 'pecies' is not defined"
     ]
    }
   ],
   "source": [
    "#Add new is_protected column\n",
    "pecies['is_protected'] = species.conservation_status != 'Not Concerned'\n",
    "\n",
    "species"
   ]
  },
  {
   "cell_type": "code",
   "execution_count": null,
   "metadata": {},
   "outputs": [],
   "source": [
    "#Group by category and protected status\n",
    "category_counts = species.groupby(['category', 'is_protected'])\\\n",
    "                  .scientific_name.nunique()\\\n",
    "                  .reset_index()\\\n",
    "                  .pivot(columns='is_protected',\n",
    "                                  index='category',\n",
    "                                  values='scientific_name')\\\n",
    "                  .reset_index()\n",
    "\n",
    "category_counts.columns = ['category', 'not_protected', 'protected']\n",
    "\n",
    "category_counts"
   ]
  },
  {
   "cell_type": "markdown",
   "metadata": {},
   "source": [
    "At first glance, we see that `Mammal`, `Bird`, and `Vascular Plant` have a higher counts of species under protected status. Let's break this data down in percentages."
   ]
  },
  {
   "cell_type": "code",
   "execution_count": null,
   "metadata": {},
   "outputs": [],
   "source": [
    "category_counts['pct_protected'] = category_counts.protected/(category_counts.protected + category_counts.not_protected) * 100\n",
    "\n",
    "category_counts"
   ]
  },
  {
   "cell_type": "markdown",
   "metadata": {},
   "source": [
    "+ In percentage form, we can see that `Vascular Plant` actually only has 1.07% of species under protected status. \n",
    "+ `Bird`(15.36%) and `Mammal` (17.04%) have the highest percentage of species under a protected status. \n",
    "+ `Amphibian` and `Fish` both have over 8% of species under a protected status.\n",
    "+ `Reptile` has about 6.4% of species under a protected status."
   ]
  },
  {
   "cell_type": "markdown",
   "metadata": {},
   "source": [
    "#### Statistical Significance\n",
    "We will run chi-squared tests to see if different categories have statistically significant differences in conservation status rates. In order to run a chi squared test, a contingency table will need to be created.\n",
    "\n",
    "This first chi-squared test (contigency1) is between `Mammal` and `Bird`."
   ]
  },
  {
   "cell_type": "code",
   "execution_count": null,
   "metadata": {},
   "outputs": [],
   "source": [
    "from scipy.stats import chi2_contingency\n",
    "\n",
    "contingency1 = [[30, 146],\n",
    "              [75, 413]]\n",
    "\n",
    "chi2_contingency(contingency1)"
   ]
  },
  {
   "cell_type": "markdown",
   "metadata": {},
   "source": [
    "The chi-squared test returned a p-value of 0.68, which is larger than the standard p-value of 0.05. Therefore, we can conclude that there is **no significant difference between the rates of species under protection status for `Mammal` and `Bird`**"
   ]
  },
  {
   "cell_type": "markdown",
   "metadata": {},
   "source": [
    "Next, we will run a chi-squared test between `Mammal` and `Reptile`."
   ]
  },
  {
   "cell_type": "code",
   "execution_count": null,
   "metadata": {},
   "outputs": [],
   "source": [
    "contingency2 = [[30,146],\n",
    "                [5,75]]\n",
    "chi2_contingency(contingency2)"
   ]
  },
  {
   "cell_type": "markdown",
   "metadata": {},
   "source": [
    "The chi-squared test returned a p-value of 0.03, which is lower than the standard p-value of 0.05. Therefore, we can conclude that there is **a significant difference between the rates of species under protection status for `Mammal` and `Reptile`.** Mammal have a statistically significant higher rate of protection compared to Rerptile."
   ]
  },
  {
   "cell_type": "markdown",
   "metadata": {},
   "source": [
    "The last chi-square test we will run will be between `Amphibian` and `Reptile`."
   ]
  },
  {
   "cell_type": "code",
   "execution_count": null,
   "metadata": {},
   "outputs": [],
   "source": [
    "contigency3 = [[7,72],\n",
    "              [5, 73]]\n",
    "chi2_contingency(contigency3)"
   ]
  },
  {
   "cell_type": "markdown",
   "metadata": {},
   "source": [
    "The chi-squared test returned a p-value of 0.78, which is larger than the standard p-value of 0.05. Therefore, we can conclude that there is **no significant difference between the rates of species under protection status for `Amphibian` and `Reptile`**"
   ]
  },
  {
   "cell_type": "markdown",
   "metadata": {},
   "source": [
    "## Conclusion\n",
    "In this project, we analyzed and visualized the data provided in two tables `species` and `observations` to answer some questions we have about biodiversity and at-risk populations at 4 national parks.\n",
    "\n",
    "+ What is the distribution of conservation status for categories of species reported?\n",
    "    + Mammal has the highest percentage of species under Endangered status at 3.27%, followed by Bird at 2.36%.\n",
    "    + The same trend holds for Species of concern, with Bird having the highest share of spiecies under this status at 13.81%. Mammal is a close second at 13.08%.\n",
    "    + For Threated status, Fish has the higest share of species at 3.14%.\n",
    "    + For all categories reported, the majority of species are not under a protected status.\n",
    "    \n",
    "+ What does biodiversity status look like at each reported national park?\n",
    "    + Yellowstone National Park has the highest number of observations and also has the largest range among all 4 parks reported.\n",
    "    \n",
    "+ Which national park has the most at-risk biodiversity?\n",
    "    + There seems to be little variation between 4 national parks in regards to the percentage of total observations by conservation status. This indicates that all 4 parks may have similar level of at-risk biodiversity.\n",
    "\n",
    "+ Are there significant differences between species conservation status? Which species are more at-risk of endangerment?\n",
    "    + `Mammal` is more at-risk of being under a protected status compared to other species categories."
   ]
  },
  {
   "cell_type": "markdown",
   "metadata": {},
   "source": [
    "## Further Research\n",
    "\n",
    "+ The data only included observations for the last 7 days which does not help us understand how biodiveristy levels have changed over time. If we can obtain historical data, it would be very beneficial to analyze trends in biodiversity over time.\n",
    "\n",
    "+ Another interesting data point to include would be the square footage of each national park. This data can give context to observation counts and the amount of biodiversity we see at each park. For example, Yellowstone might be much larger than the other 3 parks, which means it would exihibit more observations and greater biodiversity."
   ]
  },
  {
   "cell_type": "code",
   "execution_count": null,
   "metadata": {},
   "outputs": [],
   "source": []
  }
 ],
 "metadata": {
  "kernelspec": {
   "display_name": "Python 3 (ipykernel)",
   "language": "python",
   "name": "python3"
  },
  "language_info": {
   "codemirror_mode": {
    "name": "ipython",
    "version": 3
   },
   "file_extension": ".py",
   "mimetype": "text/x-python",
   "name": "python",
   "nbconvert_exporter": "python",
   "pygments_lexer": "ipython3",
   "version": "3.9.7"
  }
 },
 "nbformat": 4,
 "nbformat_minor": 4
}
